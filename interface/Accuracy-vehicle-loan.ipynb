{
 "cells": [
  {
   "cell_type": "code",
   "execution_count": 1,
   "id": "3ff8638b",
   "metadata": {},
   "outputs": [],
   "source": [
    "from sklearn.linear_model import LogisticRegression as LGR\n",
    "from sklearn.model_selection import train_test_split\n",
    "\n",
    "# from sklearn.decomposition import PCA\n",
    "\n",
    "from sklearn import preprocessing\n",
    "\n",
    "import numpy as np\n",
    "import pandas as pd\n",
    "import seaborn as sns\n",
    "import matplotlib.pyplot as plt"
   ]
  },
  {
   "cell_type": "code",
   "execution_count": 2,
   "id": "07a45b50",
   "metadata": {},
   "outputs": [
    {
     "data": {
      "text/plain": [
       "(233154, 41)"
      ]
     },
     "execution_count": 2,
     "metadata": {},
     "output_type": "execute_result"
    }
   ],
   "source": [
    "data = pd.read_csv(\n",
    "            \"https://raw.githubusercontent.com/dakshina13/dimensionality-reduction/master/vehicle-loan/dataset/train.csv\")\n",
    "data.shape"
   ]
  },
  {
   "cell_type": "code",
   "execution_count": 3,
   "id": "2fba21ef",
   "metadata": {},
   "outputs": [
    {
     "data": {
      "text/plain": [
       "(233154, 41)"
      ]
     },
     "execution_count": 3,
     "metadata": {},
     "output_type": "execute_result"
    }
   ],
   "source": [
    "data.dropna()\n",
    "data.shape"
   ]
  },
  {
   "cell_type": "code",
   "execution_count": 5,
   "id": "6ae6a380",
   "metadata": {},
   "outputs": [
    {
     "name": "stdout",
     "output_type": "stream",
     "text": [
      "Index(['UniqueID', 'disbursed_amount', 'asset_cost', 'ltv', 'branch_id',\n",
      "       'supplier_id', 'manufacturer_id', 'Current_pincode_ID', 'Date.of.Birth',\n",
      "       'Employment.Type', 'DisbursalDate', 'State_ID', 'Employee_code_ID',\n",
      "       'MobileNo_Avl_Flag', 'Aadhar_flag', 'PAN_flag', 'VoterID_flag',\n",
      "       'Driving_flag', 'Passport_flag', 'PERFORM_CNS.SCORE',\n",
      "       'PERFORM_CNS.SCORE.DESCRIPTION', 'PRI.NO.OF.ACCTS', 'PRI.ACTIVE.ACCTS',\n",
      "       'PRI.OVERDUE.ACCTS', 'PRI.CURRENT.BALANCE', 'PRI.SANCTIONED.AMOUNT',\n",
      "       'PRI.DISBURSED.AMOUNT', 'SEC.NO.OF.ACCTS', 'SEC.ACTIVE.ACCTS',\n",
      "       'SEC.OVERDUE.ACCTS', 'SEC.CURRENT.BALANCE', 'SEC.SANCTIONED.AMOUNT',\n",
      "       'SEC.DISBURSED.AMOUNT', 'PRIMARY.INSTAL.AMT', 'SEC.INSTAL.AMT',\n",
      "       'NEW.ACCTS.IN.LAST.SIX.MONTHS', 'DELINQUENT.ACCTS.IN.LAST.SIX.MONTHS',\n",
      "       'AVERAGE.ACCT.AGE', 'CREDIT.HISTORY.LENGTH', 'NO.OF_INQUIRIES',\n",
      "       'loan_default'],\n",
      "      dtype='object')\n"
     ]
    }
   ],
   "source": [
    "target_column_name=\"loan_default\"\n",
    "drop_column_array=[\"UniqueID\"]\n",
    "print(data.columns)\n",
    "target=data[target_column_name]\n",
    "data = data.drop(target_column_name, axis=1)\n",
    "for col in drop_column_array:\n",
    "    data = data.drop(col, axis=1)"
   ]
  },
  {
   "cell_type": "code",
   "execution_count": 6,
   "id": "4f868714",
   "metadata": {},
   "outputs": [
    {
     "data": {
      "text/plain": [
       "(5828, 39)"
      ]
     },
     "execution_count": 6,
     "metadata": {},
     "output_type": "execute_result"
    }
   ],
   "source": [
    "new_data, dump, new_target, dump2=train_test_split(data, target, test_size = 0.975)\n",
    "new_data.shape"
   ]
  },
  {
   "cell_type": "code",
   "execution_count": 7,
   "id": "25232f50",
   "metadata": {},
   "outputs": [],
   "source": [
    "label_encoder = preprocessing.LabelEncoder()\n",
    "for k, v in new_data.dtypes.items():\n",
    "    if v not in [\"int32\", \"int64\", \"float64\"]:\n",
    "        # print(\"For k \"+k)\n",
    "        # print(train[k].unique())\n",
    "        new_data[k] = label_encoder.fit_transform(new_data[k])\n",
    "        # print(train[k].unique())"
   ]
  },
  {
   "cell_type": "markdown",
   "id": "7b883f09",
   "metadata": {},
   "source": [
    "## Model without feature selection "
   ]
  },
  {
   "cell_type": "code",
   "execution_count": 8,
   "id": "49079525",
   "metadata": {},
   "outputs": [],
   "source": [
    "X_train_m1, X_test_m1, y_train_m1, y_test_m1 = train_test_split(new_data, new_target, test_size = 0.3)\n"
   ]
  },
  {
   "cell_type": "code",
   "execution_count": 9,
   "id": "5e56986c",
   "metadata": {},
   "outputs": [
    {
     "name": "stdout",
     "output_type": "stream",
     "text": [
      "CPU times: total: 2.64 s\n",
      "Wall time: 1.6 s\n"
     ]
    },
    {
     "data": {
      "text/plain": [
       "LogisticRegression(max_iter=10000)"
      ]
     },
     "execution_count": 9,
     "metadata": {},
     "output_type": "execute_result"
    }
   ],
   "source": [
    "%%time\n",
    "lgr=LGR(max_iter=10000)\n",
    "lgr.fit(X_train_m1,y_train_m1)"
   ]
  },
  {
   "cell_type": "code",
   "execution_count": null,
   "id": "5c48d265",
   "metadata": {},
   "outputs": [],
   "source": [
    "lgr.score(X_test_m1,y_test_m1)"
   ]
  },
  {
   "cell_type": "markdown",
   "id": "e368f782",
   "metadata": {},
   "source": [
    "## Model with Forward selection"
   ]
  },
  {
   "cell_type": "code",
   "execution_count": 11,
   "id": "08c697b6",
   "metadata": {},
   "outputs": [
    {
     "data": {
      "text/plain": [
       "(5828, 13)"
      ]
     },
     "execution_count": 11,
     "metadata": {},
     "output_type": "execute_result"
    }
   ],
   "source": [
    "selected_feature=['branch_id', 'Current_pincode_ID', 'Date.of.Birth', 'Employment.Type', 'Employee_code_ID', 'PAN_flag', 'VoterID_flag', 'Driving_flag', 'Passport_flag', 'PRI.OVERDUE.ACCTS', 'PRI.CURRENT.BALANCE', 'PRI.SANCTIONED.AMOUNT', 'SEC.INSTAL.AMT']\n",
    "data2=new_data[selected_feature]\n",
    "data2.shape"
   ]
  },
  {
   "cell_type": "code",
   "execution_count": 13,
   "id": "7c1dfa7c",
   "metadata": {},
   "outputs": [],
   "source": [
    "X_train_m2, X_test_m2, y_train_m2, y_test_m2 = train_test_split(data2, new_target, test_size = 0.3)\n"
   ]
  },
  {
   "cell_type": "code",
   "execution_count": 14,
   "id": "2d3f1b82",
   "metadata": {},
   "outputs": [
    {
     "name": "stdout",
     "output_type": "stream",
     "text": [
      "CPU times: total: 46.9 ms\n",
      "Wall time: 34.5 ms\n"
     ]
    },
    {
     "data": {
      "text/plain": [
       "LogisticRegression(max_iter=10000)"
      ]
     },
     "execution_count": 14,
     "metadata": {},
     "output_type": "execute_result"
    }
   ],
   "source": [
    "%%time\n",
    "lgr2=LGR(max_iter=10000)\n",
    "lgr2.fit(X_train_m2,y_train_m2)"
   ]
  },
  {
   "cell_type": "code",
   "execution_count": 15,
   "id": "f069d0d0",
   "metadata": {},
   "outputs": [
    {
     "data": {
      "text/plain": [
       "0.775871926815323"
      ]
     },
     "execution_count": 15,
     "metadata": {},
     "output_type": "execute_result"
    }
   ],
   "source": [
    "lgr2.score(X_test_m2,y_test_m2)"
   ]
  },
  {
   "cell_type": "markdown",
   "id": "70af28ab",
   "metadata": {},
   "source": [
    "## Model with Backward Selection"
   ]
  },
  {
   "cell_type": "code",
   "execution_count": 17,
   "id": "c5ceb842",
   "metadata": {},
   "outputs": [
    {
     "data": {
      "text/plain": [
       "(5828, 37)"
      ]
     },
     "execution_count": 17,
     "metadata": {},
     "output_type": "execute_result"
    }
   ],
   "source": [
    "selected_feature_2=['disbursed_amount', 'asset_cost', 'ltv', 'branch_id', 'supplier_id', 'manufacturer_id', 'Current_pincode_ID', 'Date.of.Birth', 'Employment.Type', 'DisbursalDate', 'State_ID', 'Employee_code_ID', 'MobileNo_Avl_Flag', 'Aadhar_flag', 'PAN_flag', 'VoterID_flag', 'Driving_flag', 'Passport_flag', 'PERFORM_CNS.SCORE.DESCRIPTION', 'PRI.NO.OF.ACCTS', 'PRI.ACTIVE.ACCTS', 'PRI.OVERDUE.ACCTS', 'PRI.CURRENT.BALANCE', 'PRI.DISBURSED.AMOUNT', 'SEC.NO.OF.ACCTS', 'SEC.ACTIVE.ACCTS', 'SEC.OVERDUE.ACCTS', 'SEC.CURRENT.BALANCE', 'SEC.SANCTIONED.AMOUNT', 'SEC.DISBURSED.AMOUNT', 'PRIMARY.INSTAL.AMT', 'SEC.INSTAL.AMT', 'NEW.ACCTS.IN.LAST.SIX.MONTHS', 'DELINQUENT.ACCTS.IN.LAST.SIX.MONTHS', 'AVERAGE.ACCT.AGE', 'CREDIT.HISTORY.LENGTH', 'NO.OF_INQUIRIES']\n",
    "data3=new_data[selected_feature_2]\n",
    "data3.shape"
   ]
  },
  {
   "cell_type": "code",
   "execution_count": 18,
   "id": "6dbd2b7e",
   "metadata": {},
   "outputs": [],
   "source": [
    "X_train_m3, X_test_m3, y_train_m3, y_test_m3 = train_test_split(data3, new_target, test_size = 0.3)\n"
   ]
  },
  {
   "cell_type": "code",
   "execution_count": 19,
   "id": "9f4dda91",
   "metadata": {},
   "outputs": [
    {
     "name": "stdout",
     "output_type": "stream",
     "text": [
      "CPU times: total: 1.16 s\n",
      "Wall time: 669 ms\n"
     ]
    },
    {
     "data": {
      "text/plain": [
       "LogisticRegression(max_iter=10000)"
      ]
     },
     "execution_count": 19,
     "metadata": {},
     "output_type": "execute_result"
    }
   ],
   "source": [
    "%%time\n",
    "lgr3=LGR(max_iter=10000)\n",
    "lgr3.fit(X_train_m3,y_train_m3)"
   ]
  },
  {
   "cell_type": "code",
   "execution_count": 20,
   "id": "3e1cd77b",
   "metadata": {},
   "outputs": [
    {
     "data": {
      "text/plain": [
       "0.7770154373927959"
      ]
     },
     "execution_count": 20,
     "metadata": {},
     "output_type": "execute_result"
    }
   ],
   "source": [
    "lgr3.score(X_test_m3,y_test_m3)"
   ]
  },
  {
   "cell_type": "markdown",
   "id": "d43950ba",
   "metadata": {},
   "source": [
    "## Model with Forward floating selection"
   ]
  },
  {
   "cell_type": "code",
   "execution_count": 21,
   "id": "a73a7660",
   "metadata": {},
   "outputs": [
    {
     "data": {
      "text/plain": [
       "(5828, 13)"
      ]
     },
     "execution_count": 21,
     "metadata": {},
     "output_type": "execute_result"
    }
   ],
   "source": [
    "selected_feature_3=['branch_id', 'Current_pincode_ID', 'Date.of.Birth', 'Employment.Type', 'Employee_code_ID', 'PAN_flag', 'VoterID_flag', 'Driving_flag', 'Passport_flag', 'PRI.OVERDUE.ACCTS', 'PRI.CURRENT.BALANCE', 'PRI.SANCTIONED.AMOUNT', 'SEC.INSTAL.AMT']\n",
    "data4=new_data[selected_feature_3]\n",
    "data4.shape"
   ]
  },
  {
   "cell_type": "code",
   "execution_count": 23,
   "id": "48b2c766",
   "metadata": {},
   "outputs": [
    {
     "data": {
      "text/plain": [
       "(4079, 13)"
      ]
     },
     "execution_count": 23,
     "metadata": {},
     "output_type": "execute_result"
    }
   ],
   "source": [
    "X_train_m4, X_test_m4, y_train_m4, y_test_m4 = train_test_split(data4, new_target, test_size = 0.3)\n",
    "X_train_m4.shape"
   ]
  },
  {
   "cell_type": "code",
   "execution_count": 24,
   "id": "4c34904a",
   "metadata": {},
   "outputs": [
    {
     "name": "stdout",
     "output_type": "stream",
     "text": [
      "CPU times: total: 31.2 ms\n",
      "Wall time: 34.9 ms\n"
     ]
    },
    {
     "data": {
      "text/plain": [
       "LogisticRegression(max_iter=10000)"
      ]
     },
     "execution_count": 24,
     "metadata": {},
     "output_type": "execute_result"
    }
   ],
   "source": [
    "%%time\n",
    "lgr4=LGR(max_iter=10000)\n",
    "lgr4.fit(X_train_m4,y_train_m4)"
   ]
  },
  {
   "cell_type": "code",
   "execution_count": 26,
   "id": "cdde95d0",
   "metadata": {},
   "outputs": [
    {
     "data": {
      "text/plain": [
       "0.7833047455688965"
      ]
     },
     "execution_count": 26,
     "metadata": {},
     "output_type": "execute_result"
    }
   ],
   "source": [
    "lgr4.score(X_test_m4,y_test_m4)"
   ]
  },
  {
   "cell_type": "markdown",
   "id": "b1191ec8",
   "metadata": {},
   "source": [
    "## Model with Backward floating selection"
   ]
  },
  {
   "cell_type": "code",
   "execution_count": 27,
   "id": "44517112",
   "metadata": {},
   "outputs": [
    {
     "data": {
      "text/plain": [
       "(5828, 7)"
      ]
     },
     "execution_count": 27,
     "metadata": {},
     "output_type": "execute_result"
    }
   ],
   "source": [
    "selected_feature_4=['disbursed_amount', 'asset_cost', 'supplier_id', 'Date.of.Birth', 'SEC.INSTAL.AMT', 'AVERAGE.ACCT.AGE', 'CREDIT.HISTORY.LENGTH']\n",
    "data5=new_data[selected_feature_4]\n",
    "data5.shape"
   ]
  },
  {
   "cell_type": "code",
   "execution_count": 30,
   "id": "703d47c2",
   "metadata": {},
   "outputs": [
    {
     "data": {
      "text/plain": [
       "(4079, 7)"
      ]
     },
     "execution_count": 30,
     "metadata": {},
     "output_type": "execute_result"
    }
   ],
   "source": [
    "X_train_m5, X_test_m5, y_train_m5, y_test_m5 = train_test_split(data5, new_target, test_size = 0.3)\n",
    "X_train_m5.shape"
   ]
  },
  {
   "cell_type": "code",
   "execution_count": 31,
   "id": "9842cfe7",
   "metadata": {},
   "outputs": [
    {
     "name": "stdout",
     "output_type": "stream",
     "text": [
      "CPU times: total: 46.9 ms\n",
      "Wall time: 44.9 ms\n"
     ]
    },
    {
     "data": {
      "text/plain": [
       "LogisticRegression(max_iter=10000)"
      ]
     },
     "execution_count": 31,
     "metadata": {},
     "output_type": "execute_result"
    }
   ],
   "source": [
    "%%time\n",
    "lgr5=LGR(max_iter=10000)\n",
    "lgr5.fit(X_train_m5,y_train_m5)"
   ]
  },
  {
   "cell_type": "code",
   "execution_count": 32,
   "id": "b4e7db10",
   "metadata": {},
   "outputs": [
    {
     "data": {
      "text/plain": [
       "0.758147512864494"
      ]
     },
     "execution_count": 32,
     "metadata": {},
     "output_type": "execute_result"
    }
   ],
   "source": [
    "lgr5.score(X_test_m5,y_test_m5)"
   ]
  },
  {
   "cell_type": "code",
   "execution_count": null,
   "id": "71d357c1",
   "metadata": {},
   "outputs": [],
   "source": []
  }
 ],
 "metadata": {
  "kernelspec": {
   "display_name": "Python 3 (ipykernel)",
   "language": "python",
   "name": "python3"
  },
  "language_info": {
   "codemirror_mode": {
    "name": "ipython",
    "version": 3
   },
   "file_extension": ".py",
   "mimetype": "text/x-python",
   "name": "python",
   "nbconvert_exporter": "python",
   "pygments_lexer": "ipython3",
   "version": "3.8.10"
  }
 },
 "nbformat": 4,
 "nbformat_minor": 5
}
