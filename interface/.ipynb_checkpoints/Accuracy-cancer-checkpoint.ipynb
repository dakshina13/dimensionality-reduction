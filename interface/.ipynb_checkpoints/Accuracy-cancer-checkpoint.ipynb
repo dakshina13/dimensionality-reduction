{
 "cells": [
  {
   "cell_type": "code",
   "execution_count": 1,
   "id": "3ff8638b",
   "metadata": {},
   "outputs": [],
   "source": [
    "from sklearn.linear_model import LogisticRegression as LGR\n",
    "from sklearn.model_selection import train_test_split\n",
    "\n",
    "# from sklearn.decomposition import PCA\n",
    "\n",
    "from sklearn import preprocessing\n",
    "\n",
    "import numpy as np\n",
    "import pandas as pd\n",
    "import seaborn as sns\n",
    "import matplotlib.pyplot as plt"
   ]
  },
  {
   "cell_type": "code",
   "execution_count": 2,
   "id": "07a45b50",
   "metadata": {},
   "outputs": [
    {
     "data": {
      "text/plain": [
       "(569, 33)"
      ]
     },
     "execution_count": 2,
     "metadata": {},
     "output_type": "execute_result"
    }
   ],
   "source": [
    "data = pd.read_csv(\n",
    "            \"https://raw.githubusercontent.com/dakshina13/dimensionality-reduction/master/cancer/data3.csv\")\n",
    "data.shape"
   ]
  },
  {
   "cell_type": "code",
   "execution_count": 3,
   "id": "2fba21ef",
   "metadata": {},
   "outputs": [
    {
     "data": {
      "text/plain": [
       "(569, 33)"
      ]
     },
     "execution_count": 3,
     "metadata": {},
     "output_type": "execute_result"
    }
   ],
   "source": [
    "data.dropna()\n",
    "data.shape"
   ]
  },
  {
   "cell_type": "code",
   "execution_count": 4,
   "id": "25232f50",
   "metadata": {},
   "outputs": [],
   "source": [
    "label_encoder = preprocessing.LabelEncoder()\n",
    "for k, v in data.dtypes.items():\n",
    "    if v not in [\"int32\", \"int64\", \"float64\"]:\n",
    "        # print(\"For k \"+k)\n",
    "        # print(train[k].unique())\n",
    "        data[k] = label_encoder.fit_transform(data[k])\n",
    "        # print(train[k].unique())"
   ]
  },
  {
   "cell_type": "code",
   "execution_count": 5,
   "id": "84c69619",
   "metadata": {},
   "outputs": [
    {
     "name": "stdout",
     "output_type": "stream",
     "text": [
      "Index(['UniqueID', 'disbursed_amount', 'asset_cost', 'ltv', 'branch_id',\n",
      "       'supplier_id', 'manufacturer_id', 'Current_pincode_ID', 'Date.of.Birth',\n",
      "       'Employment.Type', 'DisbursalDate', 'State_ID', 'Employee_code_ID',\n",
      "       'MobileNo_Avl_Flag', 'Aadhar_flag', 'PAN_flag', 'VoterID_flag',\n",
      "       'Driving_flag', 'Passport_flag', 'PERFORM_CNS.SCORE',\n",
      "       'PERFORM_CNS.SCORE.DESCRIPTION', 'PRI.NO.OF.ACCTS', 'PRI.ACTIVE.ACCTS',\n",
      "       'PRI.OVERDUE.ACCTS', 'PRI.CURRENT.BALANCE', 'PRI.SANCTIONED.AMOUNT',\n",
      "       'PRI.DISBURSED.AMOUNT', 'SEC.NO.OF.ACCTS', 'SEC.ACTIVE.ACCTS',\n",
      "       'SEC.OVERDUE.ACCTS', 'SEC.CURRENT.BALANCE', 'SEC.SANCTIONED.AMOUNT',\n",
      "       'SEC.DISBURSED.AMOUNT', 'PRIMARY.INSTAL.AMT', 'SEC.INSTAL.AMT',\n",
      "       'NEW.ACCTS.IN.LAST.SIX.MONTHS', 'DELINQUENT.ACCTS.IN.LAST.SIX.MONTHS',\n",
      "       'AVERAGE.ACCT.AGE', 'CREDIT.HISTORY.LENGTH', 'NO.OF_INQUIRIES',\n",
      "       'loan_default'],\n",
      "      dtype='object')\n"
     ]
    }
   ],
   "source": [
    "target_column_name=\"loan_default\"\n",
    "drop_column_array=[\"UniqueID\"]\n",
    "print(data.columns)\n",
    "target=data[target_column_name]\n",
    "data = data.drop(target_column_name, axis=1)\n",
    "for col in drop_column_array:\n",
    "    data = data.drop(col, axis=1)"
   ]
  },
  {
   "cell_type": "code",
   "execution_count": 5,
   "id": "271e1951",
   "metadata": {},
   "outputs": [
    {
     "data": {
      "text/plain": [
       "(569, 33)"
      ]
     },
     "execution_count": 5,
     "metadata": {},
     "output_type": "execute_result"
    }
   ],
   "source": [
    "data.shape"
   ]
  },
  {
   "cell_type": "code",
   "execution_count": 6,
   "id": "49079525",
   "metadata": {},
   "outputs": [
    {
     "ename": "NameError",
     "evalue": "name 'target' is not defined",
     "output_type": "error",
     "traceback": [
      "\u001b[1;31m---------------------------------------------------------------------------\u001b[0m",
      "\u001b[1;31mNameError\u001b[0m                                 Traceback (most recent call last)",
      "Input \u001b[1;32mIn [6]\u001b[0m, in \u001b[0;36m<cell line: 1>\u001b[1;34m()\u001b[0m\n\u001b[1;32m----> 1\u001b[0m X_train_m1, X_test_m1, y_train_m1, y_test_m1 \u001b[38;5;241m=\u001b[39m train_test_split(data, \u001b[43mtarget\u001b[49m, test_size \u001b[38;5;241m=\u001b[39m \u001b[38;5;241m0.3\u001b[39m)\n",
      "\u001b[1;31mNameError\u001b[0m: name 'target' is not defined"
     ]
    }
   ],
   "source": [
    "X_train_m1, X_test_m1, y_train_m1, y_test_m1 = train_test_split(data, target, test_size = 0.3)\n"
   ]
  },
  {
   "cell_type": "code",
   "execution_count": 11,
   "id": "5e56986c",
   "metadata": {},
   "outputs": [
    {
     "name": "stdout",
     "output_type": "stream",
     "text": [
      "CPU times: total: 2min 4s\n",
      "Wall time: 34.1 s\n"
     ]
    },
    {
     "data": {
      "text/plain": [
       "LogisticRegression(max_iter=10000)"
      ]
     },
     "execution_count": 11,
     "metadata": {},
     "output_type": "execute_result"
    }
   ],
   "source": [
    "%%time\n",
    "lgr=LGR(max_iter=10000)\n",
    "lgr.fit(X_train_m1,y_train_m1)"
   ]
  },
  {
   "cell_type": "code",
   "execution_count": 12,
   "id": "9fac7bc0",
   "metadata": {},
   "outputs": [
    {
     "data": {
      "text/plain": [
       "0.7829356512788254"
      ]
     },
     "execution_count": 12,
     "metadata": {},
     "output_type": "execute_result"
    }
   ],
   "source": [
    "lgr.score(X_test_m1,y_test_m1)"
   ]
  },
  {
   "cell_type": "code",
   "execution_count": 13,
   "id": "08c697b6",
   "metadata": {},
   "outputs": [
    {
     "data": {
      "text/plain": [
       "(233154, 23)"
      ]
     },
     "execution_count": 13,
     "metadata": {},
     "output_type": "execute_result"
    }
   ],
   "source": [
    "selected_feature=['disbursed_amount', 'asset_cost', 'ltv', 'branch_id', 'supplier_id', 'manufacturer_id', 'Current_pincode_ID', 'Employment.Type', 'DisbursalDate', 'State_ID', 'Employee_code_ID', 'MobileNo_Avl_Flag', 'Aadhar_flag', 'PAN_flag', 'VoterID_flag', 'Driving_flag', 'Passport_flag', 'PERFORM_CNS.SCORE.DESCRIPTION', 'PRI.ACTIVE.ACCTS', 'PRI.OVERDUE.ACCTS', 'PRI.CURRENT.BALANCE', 'PRI.SANCTIONED.AMOUNT', 'PRIMARY.INSTAL.AMT']\n",
    "data2=data[selected_feature]\n",
    "data2.shape"
   ]
  },
  {
   "cell_type": "code",
   "execution_count": 14,
   "id": "7c1dfa7c",
   "metadata": {},
   "outputs": [],
   "source": [
    "X_train_m2, X_test_m2, y_train_m2, y_test_m2 = train_test_split(data2, target, test_size = 0.3)\n"
   ]
  },
  {
   "cell_type": "code",
   "execution_count": 15,
   "id": "2d3f1b82",
   "metadata": {},
   "outputs": [
    {
     "name": "stdout",
     "output_type": "stream",
     "text": [
      "CPU times: total: 9.8 s\n",
      "Wall time: 4.21 s\n"
     ]
    },
    {
     "data": {
      "text/plain": [
       "LogisticRegression(max_iter=10000)"
      ]
     },
     "execution_count": 15,
     "metadata": {},
     "output_type": "execute_result"
    }
   ],
   "source": [
    "%%time\n",
    "lgr2=LGR(max_iter=10000)\n",
    "lgr2.fit(X_train_m2,y_train_m2)"
   ]
  },
  {
   "cell_type": "code",
   "execution_count": 17,
   "id": "f069d0d0",
   "metadata": {},
   "outputs": [
    {
     "data": {
      "text/plain": [
       "0.7828784651235936"
      ]
     },
     "execution_count": 17,
     "metadata": {},
     "output_type": "execute_result"
    }
   ],
   "source": [
    "lgr2.score(X_test_m2,y_test_m2)"
   ]
  },
  {
   "cell_type": "code",
   "execution_count": 18,
   "id": "c5ceb842",
   "metadata": {},
   "outputs": [
    {
     "data": {
      "text/plain": [
       "(233154, 38)"
      ]
     },
     "execution_count": 18,
     "metadata": {},
     "output_type": "execute_result"
    }
   ],
   "source": [
    "selected_feature_2=['disbursed_amount', 'asset_cost', 'ltv', 'branch_id', 'supplier_id', 'manufacturer_id', 'Current_pincode_ID', 'Date.of.Birth', 'Employment.Type', 'DisbursalDate', 'State_ID', 'Employee_code_ID', 'MobileNo_Avl_Flag', 'Aadhar_flag', 'PAN_flag', 'VoterID_flag', 'Driving_flag', 'Passport_flag', 'PERFORM_CNS.SCORE', 'PERFORM_CNS.SCORE.DESCRIPTION', 'PRI.NO.OF.ACCTS', 'PRI.ACTIVE.ACCTS', 'PRI.OVERDUE.ACCTS', 'PRI.CURRENT.BALANCE', 'PRI.SANCTIONED.AMOUNT', 'PRI.DISBURSED.AMOUNT', 'SEC.NO.OF.ACCTS', 'SEC.ACTIVE.ACCTS', 'SEC.OVERDUE.ACCTS', 'SEC.CURRENT.BALANCE', 'SEC.SANCTIONED.AMOUNT', 'SEC.DISBURSED.AMOUNT', 'PRIMARY.INSTAL.AMT', 'SEC.INSTAL.AMT', 'NEW.ACCTS.IN.LAST.SIX.MONTHS', 'DELINQUENT.ACCTS.IN.LAST.SIX.MONTHS', 'CREDIT.HISTORY.LENGTH', 'NO.OF_INQUIRIES']\n",
    "data3=data[selected_feature_2]\n",
    "data3.shape"
   ]
  },
  {
   "cell_type": "code",
   "execution_count": 22,
   "id": "6dbd2b7e",
   "metadata": {},
   "outputs": [],
   "source": [
    "X_train_m3, X_test_m3, y_train_m3, y_test_m3 = train_test_split(data3, target, test_size = 0.3)\n"
   ]
  },
  {
   "cell_type": "code",
   "execution_count": 23,
   "id": "9f4dda91",
   "metadata": {},
   "outputs": [
    {
     "name": "stdout",
     "output_type": "stream",
     "text": [
      "CPU times: total: 5min 28s\n",
      "Wall time: 1min 35s\n"
     ]
    },
    {
     "data": {
      "text/plain": [
       "LogisticRegression(max_iter=10000)"
      ]
     },
     "execution_count": 23,
     "metadata": {},
     "output_type": "execute_result"
    }
   ],
   "source": [
    "%%time\n",
    "lgr3=LGR(max_iter=10000)\n",
    "lgr3.fit(X_train_m3,y_train_m3)"
   ]
  },
  {
   "cell_type": "code",
   "execution_count": 21,
   "id": "3e1cd77b",
   "metadata": {},
   "outputs": [
    {
     "data": {
      "text/plain": [
       "0.7842366363103492"
      ]
     },
     "execution_count": 21,
     "metadata": {},
     "output_type": "execute_result"
    }
   ],
   "source": [
    "lgr3.score(X_test_m3,y_test_m3)"
   ]
  },
  {
   "cell_type": "code",
   "execution_count": null,
   "id": "71d357c1",
   "metadata": {},
   "outputs": [],
   "source": []
  }
 ],
 "metadata": {
  "kernelspec": {
   "display_name": "Python 3 (ipykernel)",
   "language": "python",
   "name": "python3"
  },
  "language_info": {
   "codemirror_mode": {
    "name": "ipython",
    "version": 3
   },
   "file_extension": ".py",
   "mimetype": "text/x-python",
   "name": "python",
   "nbconvert_exporter": "python",
   "pygments_lexer": "ipython3",
   "version": "3.8.10"
  }
 },
 "nbformat": 4,
 "nbformat_minor": 5
}
