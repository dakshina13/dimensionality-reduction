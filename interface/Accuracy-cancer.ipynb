{
 "cells": [
  {
   "cell_type": "code",
   "execution_count": 23,
   "id": "3ff8638b",
   "metadata": {},
   "outputs": [],
   "source": [
    "from sklearn.linear_model import LogisticRegression as LGR\n",
    "from sklearn.model_selection import train_test_split\n",
    "\n",
    "# from sklearn.decomposition import PCA\n",
    "\n",
    "from sklearn import preprocessing\n",
    "\n",
    "import numpy as np\n",
    "import pandas as pd\n",
    "import seaborn as sns\n",
    "import matplotlib.pyplot as plt"
   ]
  },
  {
   "cell_type": "code",
   "execution_count": 24,
   "id": "07a45b50",
   "metadata": {},
   "outputs": [
    {
     "data": {
      "text/plain": [
       "(569, 33)"
      ]
     },
     "execution_count": 24,
     "metadata": {},
     "output_type": "execute_result"
    }
   ],
   "source": [
    "data = pd.read_csv(\n",
    "            \"https://raw.githubusercontent.com/dakshina13/dimensionality-reduction/master/cancer/data3.csv\")\n",
    "data.shape"
   ]
  },
  {
   "cell_type": "code",
   "execution_count": 25,
   "id": "2fba21ef",
   "metadata": {},
   "outputs": [
    {
     "data": {
      "text/plain": [
       "(569, 33)"
      ]
     },
     "execution_count": 25,
     "metadata": {},
     "output_type": "execute_result"
    }
   ],
   "source": [
    "data.dropna()\n",
    "data.shape"
   ]
  },
  {
   "cell_type": "code",
   "execution_count": 26,
   "id": "25232f50",
   "metadata": {},
   "outputs": [],
   "source": [
    "label_encoder = preprocessing.LabelEncoder()\n",
    "for k, v in data.dtypes.items():\n",
    "    if v not in [\"int32\", \"int64\", \"float64\"]:\n",
    "        # print(\"For k \"+k)\n",
    "        # print(train[k].unique())\n",
    "        data[k] = label_encoder.fit_transform(data[k])\n",
    "        # print(train[k].unique())"
   ]
  },
  {
   "cell_type": "code",
   "execution_count": 27,
   "id": "84c69619",
   "metadata": {},
   "outputs": [
    {
     "name": "stdout",
     "output_type": "stream",
     "text": [
      "Index(['id', 'diagnosis', 'radius_mean', 'texture_mean', 'perimeter_mean',\n",
      "       'area_mean', 'smoothness_mean', 'compactness_mean', 'concavity_mean',\n",
      "       'concave points_mean', 'symmetry_mean', 'fractal_dimension_mean',\n",
      "       'radius_se', 'texture_se', 'perimeter_se', 'area_se', 'smoothness_se',\n",
      "       'compactness_se', 'concavity_se', 'concave points_se', 'symmetry_se',\n",
      "       'fractal_dimension_se', 'radius_worst', 'texture_worst',\n",
      "       'perimeter_worst', 'area_worst', 'smoothness_worst',\n",
      "       'compactness_worst', 'concavity_worst', 'concave points_worst',\n",
      "       'symmetry_worst', 'fractal_dimension_worst', 'Unnamed: 32'],\n",
      "      dtype='object')\n"
     ]
    }
   ],
   "source": [
    "target_column_name=\"diagnosis\"\n",
    "drop_column_array=[\"id\"]\n",
    "print(data.columns)\n",
    "target=data[target_column_name]\n",
    "data = data.drop(target_column_name, axis=1)\n",
    "data=data.drop(\"Unnamed: 32\",axis=1)\n",
    "for col in drop_column_array:\n",
    "    data = data.drop(col, axis=1)"
   ]
  },
  {
   "cell_type": "code",
   "execution_count": 28,
   "id": "271e1951",
   "metadata": {},
   "outputs": [
    {
     "data": {
      "text/plain": [
       "(569, 30)"
      ]
     },
     "execution_count": 28,
     "metadata": {},
     "output_type": "execute_result"
    }
   ],
   "source": [
    "data.shape"
   ]
  },
  {
   "cell_type": "code",
   "execution_count": 29,
   "id": "49079525",
   "metadata": {},
   "outputs": [],
   "source": [
    "X_train_m1, X_test_m1, y_train_m1, y_test_m1 = train_test_split(data, target, test_size = 0.3)\n",
    "lgr=LGR(max_iter=10000)"
   ]
  },
  {
   "cell_type": "code",
   "execution_count": 30,
   "id": "5e56986c",
   "metadata": {},
   "outputs": [
    {
     "name": "stdout",
     "output_type": "stream",
     "text": [
      "CPU times: total: 1.78 s\n",
      "Wall time: 2.17 s\n"
     ]
    },
    {
     "data": {
      "text/plain": [
       "LogisticRegression(max_iter=10000)"
      ]
     },
     "execution_count": 30,
     "metadata": {},
     "output_type": "execute_result"
    }
   ],
   "source": [
    "%%time\n",
    "lgr.fit(X_train_m1,y_train_m1)"
   ]
  },
  {
   "cell_type": "code",
   "execution_count": 31,
   "id": "9fac7bc0",
   "metadata": {},
   "outputs": [
    {
     "data": {
      "text/plain": [
       "0.935672514619883"
      ]
     },
     "execution_count": 31,
     "metadata": {},
     "output_type": "execute_result"
    }
   ],
   "source": [
    "lgr.score(X_test_m1,y_test_m1)"
   ]
  },
  {
   "cell_type": "code",
   "execution_count": 32,
   "id": "08c697b6",
   "metadata": {},
   "outputs": [
    {
     "data": {
      "text/plain": [
       "(569, 29)"
      ]
     },
     "execution_count": 32,
     "metadata": {},
     "output_type": "execute_result"
    }
   ],
   "source": [
    "selected_feature=['radius_mean', 'texture_mean', 'perimeter_mean', 'area_mean', 'smoothness_mean', 'compactness_mean', 'concavity_mean', 'concave points_mean', 'symmetry_mean', 'fractal_dimension_mean', 'radius_se', 'texture_se', 'perimeter_se', 'area_se', 'smoothness_se', 'compactness_se', 'concavity_se', 'concave points_se', 'symmetry_se', 'fractal_dimension_se', 'radius_worst', 'texture_worst', 'area_worst', 'smoothness_worst', 'compactness_worst', 'concavity_worst', 'concave points_worst', 'symmetry_worst', 'fractal_dimension_worst']\n",
    "data2=data[selected_feature]\n",
    "data2.shape"
   ]
  },
  {
   "cell_type": "code",
   "execution_count": 33,
   "id": "7c1dfa7c",
   "metadata": {},
   "outputs": [
    {
     "data": {
      "text/plain": [
       "(398, 29)"
      ]
     },
     "execution_count": 33,
     "metadata": {},
     "output_type": "execute_result"
    }
   ],
   "source": [
    "X_train_m2, X_test_m2, y_train_m2, y_test_m2 = train_test_split(data2, target, test_size = 0.3)\n",
    "lgr2=LGR(max_iter=10000)\n",
    "X_train_m2.shape"
   ]
  },
  {
   "cell_type": "code",
   "execution_count": 34,
   "id": "2d3f1b82",
   "metadata": {},
   "outputs": [
    {
     "name": "stdout",
     "output_type": "stream",
     "text": [
      "CPU times: total: 1.28 s\n",
      "Wall time: 1.62 s\n"
     ]
    },
    {
     "data": {
      "text/plain": [
       "LogisticRegression(max_iter=10000)"
      ]
     },
     "execution_count": 34,
     "metadata": {},
     "output_type": "execute_result"
    }
   ],
   "source": [
    "%%time\n",
    "lgr2.fit(X_train_m2,y_train_m2)"
   ]
  },
  {
   "cell_type": "code",
   "execution_count": 35,
   "id": "f069d0d0",
   "metadata": {},
   "outputs": [
    {
     "data": {
      "text/plain": [
       "0.9415204678362573"
      ]
     },
     "execution_count": 35,
     "metadata": {},
     "output_type": "execute_result"
    }
   ],
   "source": [
    "lgr2.score(X_test_m2,y_test_m2)"
   ]
  },
  {
   "cell_type": "code",
   "execution_count": 36,
   "id": "c5ceb842",
   "metadata": {},
   "outputs": [
    {
     "data": {
      "text/plain": [
       "(569, 12)"
      ]
     },
     "execution_count": 36,
     "metadata": {},
     "output_type": "execute_result"
    }
   ],
   "source": [
    "selected_feature_2=['radius_mean', 'texture_mean', 'area_mean', 'smoothness_mean', 'compactness_mean', 'concavity_mean', 'concave points_mean', 'radius_worst', 'texture_worst', 'perimeter_worst', 'compactness_worst', 'concavity_worst']\n",
    "data3=data[selected_feature_2]\n",
    "data3.shape"
   ]
  },
  {
   "cell_type": "code",
   "execution_count": 37,
   "id": "6dbd2b7e",
   "metadata": {},
   "outputs": [],
   "source": [
    "X_train_m3, X_test_m3, y_train_m3, y_test_m3 = train_test_split(data3, target, test_size = 0.3)\n",
    "lgr3=LGR(max_iter=10000)"
   ]
  },
  {
   "cell_type": "code",
   "execution_count": 38,
   "id": "9f4dda91",
   "metadata": {},
   "outputs": [
    {
     "name": "stdout",
     "output_type": "stream",
     "text": [
      "CPU times: total: 266 ms\n",
      "Wall time: 248 ms\n"
     ]
    },
    {
     "data": {
      "text/plain": [
       "LogisticRegression(max_iter=10000)"
      ]
     },
     "execution_count": 38,
     "metadata": {},
     "output_type": "execute_result"
    }
   ],
   "source": [
    "%%time\n",
    "lgr3.fit(X_train_m3,y_train_m3)"
   ]
  },
  {
   "cell_type": "code",
   "execution_count": 39,
   "id": "3e1cd77b",
   "metadata": {},
   "outputs": [
    {
     "data": {
      "text/plain": [
       "0.9473684210526315"
      ]
     },
     "execution_count": 39,
     "metadata": {},
     "output_type": "execute_result"
    }
   ],
   "source": [
    "lgr3.score(X_test_m3,y_test_m3)"
   ]
  },
  {
   "cell_type": "code",
   "execution_count": 40,
   "id": "b382d434",
   "metadata": {},
   "outputs": [
    {
     "data": {
      "text/plain": [
       "(569, 24)"
      ]
     },
     "execution_count": 40,
     "metadata": {},
     "output_type": "execute_result"
    }
   ],
   "source": [
    "selected_feature_3=['radius_mean', 'perimeter_mean', 'area_mean', 'smoothness_mean', 'compactness_mean', 'concavity_mean', 'concave points_mean', 'symmetry_mean', 'fractal_dimension_mean', 'radius_se', 'smoothness_se', 'compactness_se', 'concavity_se', 'concave points_se', 'symmetry_se', 'radius_worst', 'texture_worst', 'area_worst', 'smoothness_worst', 'compactness_worst', 'concavity_worst', 'concave points_worst', 'symmetry_worst', 'fractal_dimension_worst']\n",
    "data4=data[selected_feature_3]\n",
    "data4.shape"
   ]
  },
  {
   "cell_type": "code",
   "execution_count": 41,
   "id": "4b14e4dd",
   "metadata": {},
   "outputs": [
    {
     "data": {
      "text/plain": [
       "(398, 24)"
      ]
     },
     "execution_count": 41,
     "metadata": {},
     "output_type": "execute_result"
    }
   ],
   "source": [
    "X_train_m4, X_test_m4, y_train_m4, y_test_m4 = train_test_split(data4, target, test_size = 0.3)\n",
    "lgr4=LGR(max_iter=10000)\n",
    "X_train_m4.shape"
   ]
  },
  {
   "cell_type": "code",
   "execution_count": 45,
   "id": "d4f46724",
   "metadata": {},
   "outputs": [
    {
     "name": "stdout",
     "output_type": "stream",
     "text": [
      "CPU times: total: 766 ms\n",
      "Wall time: 952 ms\n"
     ]
    },
    {
     "data": {
      "text/plain": [
       "LogisticRegression(max_iter=10000)"
      ]
     },
     "execution_count": 45,
     "metadata": {},
     "output_type": "execute_result"
    }
   ],
   "source": [
    "%%time\n",
    "lgr4.fit(X_train_m4,y_train_m4)"
   ]
  },
  {
   "cell_type": "code",
   "execution_count": 46,
   "id": "3805b7c8",
   "metadata": {},
   "outputs": [
    {
     "data": {
      "text/plain": [
       "0.935672514619883"
      ]
     },
     "execution_count": 46,
     "metadata": {},
     "output_type": "execute_result"
    }
   ],
   "source": [
    "lgr4.score(X_test_m4,y_test_m4)"
   ]
  },
  {
   "cell_type": "code",
   "execution_count": 47,
   "id": "883d3fbc",
   "metadata": {},
   "outputs": [
    {
     "data": {
      "text/plain": [
       "(569, 16)"
      ]
     },
     "execution_count": 47,
     "metadata": {},
     "output_type": "execute_result"
    }
   ],
   "source": [
    "selected_feature_4=['radius_mean', 'texture_mean', 'perimeter_mean', 'area_mean', 'smoothness_mean', 'compactness_mean', 'concavity_mean', 'concave points_mean', 'symmetry_mean', 'fractal_dimension_mean', 'radius_se', 'texture_se', 'radius_worst', 'texture_worst', 'area_worst', 'concavity_worst']\n",
    "data5=data[selected_feature_4]\n",
    "data5.shape"
   ]
  },
  {
   "cell_type": "code",
   "execution_count": 48,
   "id": "54ded26c",
   "metadata": {},
   "outputs": [
    {
     "data": {
      "text/plain": [
       "(398, 16)"
      ]
     },
     "execution_count": 48,
     "metadata": {},
     "output_type": "execute_result"
    }
   ],
   "source": [
    "X_train_m5, X_test_m5, y_train_m5, y_test_m5 = train_test_split(data5, target, test_size = 0.3)\n",
    "lgr5=LGR(max_iter=10000)\n",
    "X_train_m5.shape"
   ]
  },
  {
   "cell_type": "code",
   "execution_count": 49,
   "id": "818bde7b",
   "metadata": {},
   "outputs": [
    {
     "name": "stdout",
     "output_type": "stream",
     "text": [
      "CPU times: total: 281 ms\n",
      "Wall time: 315 ms\n"
     ]
    },
    {
     "data": {
      "text/plain": [
       "LogisticRegression(max_iter=10000)"
      ]
     },
     "execution_count": 49,
     "metadata": {},
     "output_type": "execute_result"
    }
   ],
   "source": [
    "%%time\n",
    "lgr5.fit(X_train_m5,y_train_m5)"
   ]
  },
  {
   "cell_type": "code",
   "execution_count": 50,
   "id": "367ee0de",
   "metadata": {},
   "outputs": [
    {
     "data": {
      "text/plain": [
       "0.9298245614035088"
      ]
     },
     "execution_count": 50,
     "metadata": {},
     "output_type": "execute_result"
    }
   ],
   "source": [
    "lgr5.score(X_test_m5,y_test_m5)"
   ]
  },
  {
   "cell_type": "code",
   "execution_count": null,
   "id": "71d357c1",
   "metadata": {},
   "outputs": [],
   "source": []
  }
 ],
 "metadata": {
  "kernelspec": {
   "display_name": "Python 3 (ipykernel)",
   "language": "python",
   "name": "python3"
  },
  "language_info": {
   "codemirror_mode": {
    "name": "ipython",
    "version": 3
   },
   "file_extension": ".py",
   "mimetype": "text/x-python",
   "name": "python",
   "nbconvert_exporter": "python",
   "pygments_lexer": "ipython3",
   "version": "3.8.10"
  }
 },
 "nbformat": 4,
 "nbformat_minor": 5
}
