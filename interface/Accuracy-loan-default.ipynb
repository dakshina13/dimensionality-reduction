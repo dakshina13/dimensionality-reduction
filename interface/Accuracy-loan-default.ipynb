{
 "cells": [
  {
   "cell_type": "code",
   "execution_count": 1,
   "id": "3ff8638b",
   "metadata": {},
   "outputs": [],
   "source": [
    "from sklearn.linear_model import LogisticRegression as LGR\n",
    "from sklearn.model_selection import train_test_split\n",
    "\n",
    "# from sklearn.decomposition import PCA\n",
    "\n",
    "from sklearn import preprocessing\n",
    "\n",
    "import numpy as np\n",
    "import pandas as pd\n",
    "import seaborn as sns\n",
    "import matplotlib.pyplot as plt"
   ]
  },
  {
   "cell_type": "code",
   "execution_count": 2,
   "id": "07a45b50",
   "metadata": {},
   "outputs": [
    {
     "data": {
      "text/plain": [
       "(307511, 122)"
      ]
     },
     "execution_count": 2,
     "metadata": {},
     "output_type": "execute_result"
    }
   ],
   "source": [
    "data = pd.read_csv(\n",
    "             \"D:\\\\Python\\\\Dimensionality reduction\\\\loan-defaulter\\\\dataset\\\\application_data.csv\")\n",
    "data.shape"
   ]
  },
  {
   "cell_type": "code",
   "execution_count": 3,
   "id": "2fba21ef",
   "metadata": {},
   "outputs": [
    {
     "data": {
      "text/plain": [
       "(8602, 122)"
      ]
     },
     "execution_count": 3,
     "metadata": {},
     "output_type": "execute_result"
    }
   ],
   "source": [
    "data=data.dropna()\n",
    "data.shape"
   ]
  },
  {
   "cell_type": "code",
   "execution_count": 4,
   "id": "6ae6a380",
   "metadata": {},
   "outputs": [
    {
     "name": "stdout",
     "output_type": "stream",
     "text": [
      "Index(['SK_ID_CURR', 'TARGET', 'NAME_CONTRACT_TYPE', 'CODE_GENDER',\n",
      "       'FLAG_OWN_CAR', 'FLAG_OWN_REALTY', 'CNT_CHILDREN', 'AMT_INCOME_TOTAL',\n",
      "       'AMT_CREDIT', 'AMT_ANNUITY',\n",
      "       ...\n",
      "       'FLAG_DOCUMENT_18', 'FLAG_DOCUMENT_19', 'FLAG_DOCUMENT_20',\n",
      "       'FLAG_DOCUMENT_21', 'AMT_REQ_CREDIT_BUREAU_HOUR',\n",
      "       'AMT_REQ_CREDIT_BUREAU_DAY', 'AMT_REQ_CREDIT_BUREAU_WEEK',\n",
      "       'AMT_REQ_CREDIT_BUREAU_MON', 'AMT_REQ_CREDIT_BUREAU_QRT',\n",
      "       'AMT_REQ_CREDIT_BUREAU_YEAR'],\n",
      "      dtype='object', length=122)\n"
     ]
    }
   ],
   "source": [
    "target_column_name=\"TARGET\"\n",
    "drop_column_array=[\"SK_ID_CURR\"]\n",
    "print(data.columns)\n",
    "target=data[target_column_name]\n",
    "data = data.drop(target_column_name, axis=1)\n",
    "for col in drop_column_array:\n",
    "    data = data.drop(col, axis=1)"
   ]
  },
  {
   "cell_type": "code",
   "execution_count": 5,
   "id": "4f868714",
   "metadata": {},
   "outputs": [],
   "source": [
    "# new_data, dump, new_target, dump2=train_test_split(data, target, test_size = 0.975)\n",
    "# new_data.shape\n",
    "new_data=data\n",
    "new_target=target"
   ]
  },
  {
   "cell_type": "code",
   "execution_count": 6,
   "id": "25232f50",
   "metadata": {},
   "outputs": [],
   "source": [
    "label_encoder = preprocessing.LabelEncoder()\n",
    "for k, v in new_data.dtypes.items():\n",
    "    if v not in [\"int32\", \"int64\", \"float64\"]:\n",
    "        # print(\"For k \"+k)\n",
    "        # print(train[k].unique())\n",
    "        new_data[k] = label_encoder.fit_transform(new_data[k])\n",
    "        # print(train[k].unique())"
   ]
  },
  {
   "cell_type": "markdown",
   "id": "7b883f09",
   "metadata": {},
   "source": [
    "## Model without feature selection "
   ]
  },
  {
   "cell_type": "code",
   "execution_count": 7,
   "id": "49079525",
   "metadata": {},
   "outputs": [
    {
     "data": {
      "text/plain": [
       "(6021, 120)"
      ]
     },
     "execution_count": 7,
     "metadata": {},
     "output_type": "execute_result"
    }
   ],
   "source": [
    "X_train_m1, X_test_m1, y_train_m1, y_test_m1 = train_test_split(new_data, new_target, test_size = 0.3)\n",
    "X_train_m1.shape"
   ]
  },
  {
   "cell_type": "code",
   "execution_count": 8,
   "id": "5e56986c",
   "metadata": {},
   "outputs": [
    {
     "name": "stdout",
     "output_type": "stream",
     "text": [
      "CPU times: total: 312 ms\n",
      "Wall time: 221 ms\n"
     ]
    },
    {
     "data": {
      "text/plain": [
       "LogisticRegression(max_iter=10000)"
      ]
     },
     "execution_count": 8,
     "metadata": {},
     "output_type": "execute_result"
    }
   ],
   "source": [
    "%%time\n",
    "lgr=LGR(max_iter=10000)\n",
    "lgr.fit(X_train_m1,y_train_m1)"
   ]
  },
  {
   "cell_type": "code",
   "execution_count": 9,
   "id": "5c48d265",
   "metadata": {},
   "outputs": [
    {
     "data": {
      "text/plain": [
       "0.9414955443626501"
      ]
     },
     "execution_count": 9,
     "metadata": {},
     "output_type": "execute_result"
    }
   ],
   "source": [
    "lgr.score(X_test_m1,y_test_m1)"
   ]
  },
  {
   "cell_type": "markdown",
   "id": "e368f782",
   "metadata": {},
   "source": [
    "## Model with Forward selection"
   ]
  },
  {
   "cell_type": "code",
   "execution_count": 10,
   "id": "08c697b6",
   "metadata": {},
   "outputs": [
    {
     "data": {
      "text/plain": [
       "(8602, 1)"
      ]
     },
     "execution_count": 10,
     "metadata": {},
     "output_type": "execute_result"
    }
   ],
   "source": [
    "selected_feature=['NAME_CONTRACT_TYPE']\n",
    "data2=new_data[selected_feature]\n",
    "data2.shape"
   ]
  },
  {
   "cell_type": "code",
   "execution_count": 11,
   "id": "7c1dfa7c",
   "metadata": {},
   "outputs": [
    {
     "data": {
      "text/plain": [
       "(6021, 1)"
      ]
     },
     "execution_count": 11,
     "metadata": {},
     "output_type": "execute_result"
    }
   ],
   "source": [
    "X_train_m2, X_test_m2, y_train_m2, y_test_m2 = train_test_split(data2, new_target, test_size = 0.3)\n",
    "X_train_m2.shape"
   ]
  },
  {
   "cell_type": "code",
   "execution_count": 12,
   "id": "2d3f1b82",
   "metadata": {},
   "outputs": [
    {
     "name": "stdout",
     "output_type": "stream",
     "text": [
      "CPU times: total: 15.6 ms\n",
      "Wall time: 19 ms\n"
     ]
    },
    {
     "data": {
      "text/plain": [
       "LogisticRegression(max_iter=10000)"
      ]
     },
     "execution_count": 12,
     "metadata": {},
     "output_type": "execute_result"
    }
   ],
   "source": [
    "%%time\n",
    "lgr2=LGR(max_iter=10000)\n",
    "lgr2.fit(X_train_m2,y_train_m2)"
   ]
  },
  {
   "cell_type": "code",
   "execution_count": 13,
   "id": "f069d0d0",
   "metadata": {},
   "outputs": [
    {
     "data": {
      "text/plain": [
       "0.9345215032932972"
      ]
     },
     "execution_count": 13,
     "metadata": {},
     "output_type": "execute_result"
    }
   ],
   "source": [
    "lgr2.score(X_test_m2,y_test_m2)"
   ]
  },
  {
   "cell_type": "markdown",
   "id": "70af28ab",
   "metadata": {},
   "source": [
    "## Model with Backward Selection"
   ]
  },
  {
   "cell_type": "code",
   "execution_count": 14,
   "id": "c5ceb842",
   "metadata": {},
   "outputs": [
    {
     "data": {
      "text/plain": [
       "(8602, 120)"
      ]
     },
     "execution_count": 14,
     "metadata": {},
     "output_type": "execute_result"
    }
   ],
   "source": [
    "selected_feature_2=['NAME_CONTRACT_TYPE', 'CODE_GENDER', 'FLAG_OWN_CAR', 'FLAG_OWN_REALTY', 'CNT_CHILDREN', 'AMT_INCOME_TOTAL', 'AMT_CREDIT', 'AMT_ANNUITY', 'AMT_GOODS_PRICE', 'NAME_TYPE_SUITE', 'NAME_INCOME_TYPE', 'NAME_EDUCATION_TYPE', 'NAME_FAMILY_STATUS', 'NAME_HOUSING_TYPE', 'REGION_POPULATION_RELATIVE', 'DAYS_BIRTH', 'DAYS_EMPLOYED', 'DAYS_REGISTRATION', 'DAYS_ID_PUBLISH', 'OWN_CAR_AGE', 'FLAG_MOBIL', 'FLAG_EMP_PHONE', 'FLAG_WORK_PHONE', 'FLAG_CONT_MOBILE', 'FLAG_PHONE', 'FLAG_EMAIL', 'OCCUPATION_TYPE', 'CNT_FAM_MEMBERS', 'REGION_RATING_CLIENT', 'REGION_RATING_CLIENT_W_CITY', 'WEEKDAY_APPR_PROCESS_START', 'HOUR_APPR_PROCESS_START', 'REG_REGION_NOT_LIVE_REGION', 'REG_REGION_NOT_WORK_REGION', 'LIVE_REGION_NOT_WORK_REGION', 'REG_CITY_NOT_LIVE_CITY', 'REG_CITY_NOT_WORK_CITY', 'LIVE_CITY_NOT_WORK_CITY', 'ORGANIZATION_TYPE', 'EXT_SOURCE_1', 'EXT_SOURCE_2', 'EXT_SOURCE_3', 'APARTMENTS_AVG', 'BASEMENTAREA_AVG', 'YEARS_BEGINEXPLUATATION_AVG', 'YEARS_BUILD_AVG', 'COMMONAREA_AVG', 'ELEVATORS_AVG', 'ENTRANCES_AVG', 'FLOORSMAX_AVG', 'FLOORSMIN_AVG', 'LANDAREA_AVG', 'LIVINGAPARTMENTS_AVG', 'LIVINGAREA_AVG', 'NONLIVINGAPARTMENTS_AVG', 'NONLIVINGAREA_AVG', 'APARTMENTS_MODE', 'BASEMENTAREA_MODE', 'YEARS_BEGINEXPLUATATION_MODE', 'YEARS_BUILD_MODE', 'COMMONAREA_MODE', 'ELEVATORS_MODE', 'ENTRANCES_MODE', 'FLOORSMAX_MODE', 'FLOORSMIN_MODE', 'LANDAREA_MODE', 'LIVINGAPARTMENTS_MODE', 'LIVINGAREA_MODE', 'NONLIVINGAPARTMENTS_MODE', 'NONLIVINGAREA_MODE', 'APARTMENTS_MEDI', 'BASEMENTAREA_MEDI', 'YEARS_BEGINEXPLUATATION_MEDI', 'YEARS_BUILD_MEDI', 'COMMONAREA_MEDI', 'ELEVATORS_MEDI', 'ENTRANCES_MEDI', 'FLOORSMAX_MEDI', 'FLOORSMIN_MEDI', 'LANDAREA_MEDI', 'LIVINGAPARTMENTS_MEDI', 'LIVINGAREA_MEDI', 'NONLIVINGAPARTMENTS_MEDI', 'NONLIVINGAREA_MEDI', 'FONDKAPREMONT_MODE', 'HOUSETYPE_MODE', 'TOTALAREA_MODE', 'WALLSMATERIAL_MODE', 'EMERGENCYSTATE_MODE', 'OBS_30_CNT_SOCIAL_CIRCLE', 'DEF_30_CNT_SOCIAL_CIRCLE', 'OBS_60_CNT_SOCIAL_CIRCLE', 'DEF_60_CNT_SOCIAL_CIRCLE', 'DAYS_LAST_PHONE_CHANGE', 'FLAG_DOCUMENT_2', 'FLAG_DOCUMENT_3', 'FLAG_DOCUMENT_4', 'FLAG_DOCUMENT_5', 'FLAG_DOCUMENT_6', 'FLAG_DOCUMENT_7', 'FLAG_DOCUMENT_8', 'FLAG_DOCUMENT_9', 'FLAG_DOCUMENT_10', 'FLAG_DOCUMENT_11', 'FLAG_DOCUMENT_12', 'FLAG_DOCUMENT_13', 'FLAG_DOCUMENT_14', 'FLAG_DOCUMENT_15', 'FLAG_DOCUMENT_16', 'FLAG_DOCUMENT_17', 'FLAG_DOCUMENT_18', 'FLAG_DOCUMENT_19', 'FLAG_DOCUMENT_20', 'FLAG_DOCUMENT_21', 'AMT_REQ_CREDIT_BUREAU_HOUR', 'AMT_REQ_CREDIT_BUREAU_DAY', 'AMT_REQ_CREDIT_BUREAU_WEEK', 'AMT_REQ_CREDIT_BUREAU_MON', 'AMT_REQ_CREDIT_BUREAU_QRT', 'AMT_REQ_CREDIT_BUREAU_YEAR']\n",
    "data3=new_data[selected_feature_2]\n",
    "data3.shape"
   ]
  },
  {
   "cell_type": "code",
   "execution_count": 15,
   "id": "6dbd2b7e",
   "metadata": {},
   "outputs": [
    {
     "data": {
      "text/plain": [
       "(6021, 120)"
      ]
     },
     "execution_count": 15,
     "metadata": {},
     "output_type": "execute_result"
    }
   ],
   "source": [
    "X_train_m3, X_test_m3, y_train_m3, y_test_m3 = train_test_split(data3, new_target, test_size = 0.3)\n",
    "X_train_m3.shape"
   ]
  },
  {
   "cell_type": "code",
   "execution_count": 16,
   "id": "9f4dda91",
   "metadata": {},
   "outputs": [
    {
     "name": "stdout",
     "output_type": "stream",
     "text": [
      "CPU times: total: 250 ms\n",
      "Wall time: 113 ms\n"
     ]
    },
    {
     "data": {
      "text/plain": [
       "LogisticRegression(max_iter=10000)"
      ]
     },
     "execution_count": 16,
     "metadata": {},
     "output_type": "execute_result"
    }
   ],
   "source": [
    "%%time\n",
    "lgr3=LGR(max_iter=10000)\n",
    "lgr3.fit(X_train_m3,y_train_m3)"
   ]
  },
  {
   "cell_type": "code",
   "execution_count": 17,
   "id": "3e1cd77b",
   "metadata": {},
   "outputs": [
    {
     "data": {
      "text/plain": [
       "0.9395583107322744"
      ]
     },
     "execution_count": 17,
     "metadata": {},
     "output_type": "execute_result"
    }
   ],
   "source": [
    "lgr3.score(X_test_m3,y_test_m3)"
   ]
  },
  {
   "cell_type": "markdown",
   "id": "d43950ba",
   "metadata": {},
   "source": [
    "## Model with Forward floating selection"
   ]
  },
  {
   "cell_type": "code",
   "execution_count": 18,
   "id": "a73a7660",
   "metadata": {},
   "outputs": [
    {
     "data": {
      "text/plain": [
       "(8602, 1)"
      ]
     },
     "execution_count": 18,
     "metadata": {},
     "output_type": "execute_result"
    }
   ],
   "source": [
    "selected_feature_3=['NAME_CONTRACT_TYPE']\n",
    "data4=new_data[selected_feature_3]\n",
    "data4.shape"
   ]
  },
  {
   "cell_type": "code",
   "execution_count": 19,
   "id": "48b2c766",
   "metadata": {},
   "outputs": [
    {
     "data": {
      "text/plain": [
       "(6021, 1)"
      ]
     },
     "execution_count": 19,
     "metadata": {},
     "output_type": "execute_result"
    }
   ],
   "source": [
    "X_train_m4, X_test_m4, y_train_m4, y_test_m4 = train_test_split(data4, new_target, test_size = 0.3)\n",
    "X_train_m4.shape"
   ]
  },
  {
   "cell_type": "code",
   "execution_count": 20,
   "id": "4c34904a",
   "metadata": {},
   "outputs": [
    {
     "name": "stdout",
     "output_type": "stream",
     "text": [
      "CPU times: total: 15.6 ms\n",
      "Wall time: 7.01 ms\n"
     ]
    },
    {
     "data": {
      "text/plain": [
       "LogisticRegression(max_iter=10000)"
      ]
     },
     "execution_count": 20,
     "metadata": {},
     "output_type": "execute_result"
    }
   ],
   "source": [
    "%%time\n",
    "lgr4=LGR(max_iter=10000)\n",
    "lgr4.fit(X_train_m4,y_train_m4)"
   ]
  },
  {
   "cell_type": "code",
   "execution_count": 21,
   "id": "cdde95d0",
   "metadata": {},
   "outputs": [
    {
     "data": {
      "text/plain": [
       "0.92948469585432"
      ]
     },
     "execution_count": 21,
     "metadata": {},
     "output_type": "execute_result"
    }
   ],
   "source": [
    "lgr4.score(X_test_m4,y_test_m4)"
   ]
  },
  {
   "cell_type": "markdown",
   "id": "b1191ec8",
   "metadata": {},
   "source": [
    "## Model with Backward floating selection"
   ]
  },
  {
   "cell_type": "code",
   "execution_count": 26,
   "id": "44517112",
   "metadata": {},
   "outputs": [
    {
     "data": {
      "text/plain": [
       "(8602, 120)"
      ]
     },
     "execution_count": 26,
     "metadata": {},
     "output_type": "execute_result"
    }
   ],
   "source": [
    "selected_feature_4=['NAME_CONTRACT_TYPE', 'CODE_GENDER', 'FLAG_OWN_CAR', 'FLAG_OWN_REALTY', 'CNT_CHILDREN', 'AMT_INCOME_TOTAL', 'AMT_CREDIT', 'AMT_ANNUITY', 'AMT_GOODS_PRICE', 'NAME_TYPE_SUITE', 'NAME_INCOME_TYPE', 'NAME_EDUCATION_TYPE', 'NAME_FAMILY_STATUS', 'NAME_HOUSING_TYPE', 'REGION_POPULATION_RELATIVE', 'DAYS_BIRTH', 'DAYS_EMPLOYED', 'DAYS_REGISTRATION', 'DAYS_ID_PUBLISH', 'OWN_CAR_AGE', 'FLAG_MOBIL', 'FLAG_EMP_PHONE', 'FLAG_WORK_PHONE', 'FLAG_CONT_MOBILE', 'FLAG_PHONE', 'FLAG_EMAIL', 'OCCUPATION_TYPE', 'CNT_FAM_MEMBERS', 'REGION_RATING_CLIENT', 'REGION_RATING_CLIENT_W_CITY', 'WEEKDAY_APPR_PROCESS_START', 'HOUR_APPR_PROCESS_START', 'REG_REGION_NOT_LIVE_REGION', 'REG_REGION_NOT_WORK_REGION', 'LIVE_REGION_NOT_WORK_REGION', 'REG_CITY_NOT_LIVE_CITY', 'REG_CITY_NOT_WORK_CITY', 'LIVE_CITY_NOT_WORK_CITY', 'ORGANIZATION_TYPE', 'EXT_SOURCE_1', 'EXT_SOURCE_2', 'EXT_SOURCE_3', 'APARTMENTS_AVG', 'BASEMENTAREA_AVG', 'YEARS_BEGINEXPLUATATION_AVG', 'YEARS_BUILD_AVG', 'COMMONAREA_AVG', 'ELEVATORS_AVG', 'ENTRANCES_AVG', 'FLOORSMAX_AVG', 'FLOORSMIN_AVG', 'LANDAREA_AVG', 'LIVINGAPARTMENTS_AVG', 'LIVINGAREA_AVG', 'NONLIVINGAPARTMENTS_AVG', 'NONLIVINGAREA_AVG', 'APARTMENTS_MODE', 'BASEMENTAREA_MODE', 'YEARS_BEGINEXPLUATATION_MODE', 'YEARS_BUILD_MODE', 'COMMONAREA_MODE', 'ELEVATORS_MODE', 'ENTRANCES_MODE', 'FLOORSMAX_MODE', 'FLOORSMIN_MODE', 'LANDAREA_MODE', 'LIVINGAPARTMENTS_MODE', 'LIVINGAREA_MODE', 'NONLIVINGAPARTMENTS_MODE', 'NONLIVINGAREA_MODE', 'APARTMENTS_MEDI', 'BASEMENTAREA_MEDI', 'YEARS_BEGINEXPLUATATION_MEDI', 'YEARS_BUILD_MEDI', 'COMMONAREA_MEDI', 'ELEVATORS_MEDI', 'ENTRANCES_MEDI', 'FLOORSMAX_MEDI', 'FLOORSMIN_MEDI', 'LANDAREA_MEDI', 'LIVINGAPARTMENTS_MEDI', 'LIVINGAREA_MEDI', 'NONLIVINGAPARTMENTS_MEDI', 'NONLIVINGAREA_MEDI', 'FONDKAPREMONT_MODE', 'HOUSETYPE_MODE', 'TOTALAREA_MODE', 'WALLSMATERIAL_MODE', 'EMERGENCYSTATE_MODE', 'OBS_30_CNT_SOCIAL_CIRCLE', 'DEF_30_CNT_SOCIAL_CIRCLE', 'OBS_60_CNT_SOCIAL_CIRCLE', 'DEF_60_CNT_SOCIAL_CIRCLE', 'DAYS_LAST_PHONE_CHANGE', 'FLAG_DOCUMENT_2', 'FLAG_DOCUMENT_3', 'FLAG_DOCUMENT_4', 'FLAG_DOCUMENT_5', 'FLAG_DOCUMENT_6', 'FLAG_DOCUMENT_7', 'FLAG_DOCUMENT_8', 'FLAG_DOCUMENT_9', 'FLAG_DOCUMENT_10', 'FLAG_DOCUMENT_11', 'FLAG_DOCUMENT_12', 'FLAG_DOCUMENT_13', 'FLAG_DOCUMENT_14', 'FLAG_DOCUMENT_15', 'FLAG_DOCUMENT_16', 'FLAG_DOCUMENT_17', 'FLAG_DOCUMENT_18', 'FLAG_DOCUMENT_19', 'FLAG_DOCUMENT_20', 'FLAG_DOCUMENT_21', 'AMT_REQ_CREDIT_BUREAU_HOUR', 'AMT_REQ_CREDIT_BUREAU_DAY', 'AMT_REQ_CREDIT_BUREAU_WEEK', 'AMT_REQ_CREDIT_BUREAU_MON', 'AMT_REQ_CREDIT_BUREAU_QRT', 'AMT_REQ_CREDIT_BUREAU_YEAR']\n",
    "data5=new_data[selected_feature_4]\n",
    "data5.shape"
   ]
  },
  {
   "cell_type": "code",
   "execution_count": 27,
   "id": "703d47c2",
   "metadata": {},
   "outputs": [
    {
     "data": {
      "text/plain": [
       "(6021, 120)"
      ]
     },
     "execution_count": 27,
     "metadata": {},
     "output_type": "execute_result"
    }
   ],
   "source": [
    "X_train_m5, X_test_m5, y_train_m5, y_test_m5 = train_test_split(data5, new_target, test_size = 0.3)\n",
    "X_train_m5.shape"
   ]
  },
  {
   "cell_type": "code",
   "execution_count": 28,
   "id": "9842cfe7",
   "metadata": {},
   "outputs": [
    {
     "name": "stdout",
     "output_type": "stream",
     "text": [
      "CPU times: total: 250 ms\n",
      "Wall time: 145 ms\n"
     ]
    },
    {
     "data": {
      "text/plain": [
       "LogisticRegression(max_iter=10000)"
      ]
     },
     "execution_count": 28,
     "metadata": {},
     "output_type": "execute_result"
    }
   ],
   "source": [
    "%%time\n",
    "lgr5=LGR(max_iter=10000)\n",
    "lgr5.fit(X_train_m5,y_train_m5)"
   ]
  },
  {
   "cell_type": "code",
   "execution_count": 29,
   "id": "b4e7db10",
   "metadata": {},
   "outputs": [
    {
     "data": {
      "text/plain": [
       "0.9360712901975978"
      ]
     },
     "execution_count": 29,
     "metadata": {},
     "output_type": "execute_result"
    }
   ],
   "source": [
    "lgr5.score(X_test_m5,y_test_m5)"
   ]
  },
  {
   "cell_type": "code",
   "execution_count": null,
   "id": "71d357c1",
   "metadata": {},
   "outputs": [],
   "source": []
  }
 ],
 "metadata": {
  "kernelspec": {
   "display_name": "Python 3 (ipykernel)",
   "language": "python",
   "name": "python3"
  },
  "language_info": {
   "codemirror_mode": {
    "name": "ipython",
    "version": 3
   },
   "file_extension": ".py",
   "mimetype": "text/x-python",
   "name": "python",
   "nbconvert_exporter": "python",
   "pygments_lexer": "ipython3",
   "version": "3.8.10"
  }
 },
 "nbformat": 4,
 "nbformat_minor": 5
}
