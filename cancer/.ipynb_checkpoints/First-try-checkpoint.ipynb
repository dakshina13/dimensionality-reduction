{
 "cells": [
  {
   "cell_type": "code",
   "execution_count": 1,
   "id": "7e5dbd2c",
   "metadata": {},
   "outputs": [],
   "source": [
    "import pandas as pd\n",
    "import numpy as np\n",
    "import matplotlib.pyplot as plt\n",
    "from sklearn.feature_selection import f_regression"
   ]
  },
  {
   "cell_type": "code",
   "execution_count": 2,
   "id": "ba9f9c26",
   "metadata": {},
   "outputs": [
    {
     "name": "stdout",
     "output_type": "stream",
     "text": [
      "(569, 31)\n",
      "['radius_mean' 'texture_mean' 'perimeter_mean' 'area_mean'\n",
      " 'smoothness_mean' 'compactness_mean' 'concavity_mean'\n",
      " 'concave points_mean' 'symmetry_mean' 'fractal_dimension_mean'\n",
      " 'radius_se' 'texture_se' 'perimeter_se' 'area_se' 'smoothness_se'\n",
      " 'compactness_se' 'concavity_se' 'concave points_se' 'symmetry_se'\n",
      " 'fractal_dimension_se' 'radius_worst' 'texture_worst' 'perimeter_worst'\n",
      " 'area_worst' 'smoothness_worst' 'compactness_worst' 'concavity_worst'\n",
      " 'concave points_worst' 'symmetry_worst' 'fractal_dimension_worst'\n",
      " 'Unnamed: 32']\n"
     ]
    }
   ],
   "source": [
    "train=pd.read_csv(\"data3.csv\")\n",
    "train\n",
    "df=train.drop(\"diagnosis\",axis=1)\n",
    "df=df.drop(\"id\",axis=1)\n",
    "print(df.shape)\n",
    "\n",
    "features=[feat for feat in df]\n",
    "features=np.array(features)\n",
    "print(features)\n",
    "df=df.drop(\"Unnamed: 32\",axis=1)\n",
    "# print(df['Unnamed: 32'])\n",
    "\n",
    "#train"
   ]
  },
  {
   "cell_type": "code",
   "execution_count": 3,
   "id": "149ff30f",
   "metadata": {},
   "outputs": [],
   "source": [
    "target=train.diagnosis\n",
    "transformed_target=[]\n",
    "for t in target:\n",
    "    if t==\"M\":\n",
    "        transformed_target.append(1)\n",
    "    else:\n",
    "        transformed_target.append(0)\n",
    "transformed_target=np.array(transformed_target)"
   ]
  },
  {
   "cell_type": "markdown",
   "id": "18feff21",
   "metadata": {},
   "source": [
    "# Forward Feature Selection"
   ]
  },
  {
   "cell_type": "code",
   "execution_count": 4,
   "id": "ff18f600",
   "metadata": {},
   "outputs": [],
   "source": [
    "ffs = f_regression(df,transformed_target)"
   ]
  },
  {
   "cell_type": "code",
   "execution_count": 5,
   "id": "4d1646a2",
   "metadata": {},
   "outputs": [],
   "source": [
    "variable = [ ]\n",
    "for i in range(0,len(df.columns)-1):\n",
    "    if ffs[0][i] >=10:\n",
    "       variable.append(df.columns[i])"
   ]
  },
  {
   "cell_type": "code",
   "execution_count": 6,
   "id": "68fef06c",
   "metadata": {},
   "outputs": [
    {
     "data": {
      "text/plain": [
       "(24,)"
      ]
     },
     "execution_count": 6,
     "metadata": {},
     "output_type": "execute_result"
    }
   ],
   "source": [
    "variable=np.array(variable)\n",
    "variable.shape"
   ]
  },
  {
   "cell_type": "code",
   "execution_count": 7,
   "id": "b43b90d5",
   "metadata": {},
   "outputs": [
    {
     "data": {
      "text/plain": [
       "(array([6.46981021e+02, 1.18096059e+02, 6.97235272e+02, 5.73060747e+02,\n",
       "        8.36511234e+01, 3.13233079e+02, 5.33793126e+02, 8.61676020e+02,\n",
       "        6.95274435e+01, 9.34592949e-02, 2.68840327e+02, 3.90947023e-02,\n",
       "        2.53897392e+02, 2.43651586e+02, 2.55796780e+00, 5.32473391e+01,\n",
       "        3.90144816e+01, 1.13262760e+02, 2.41174067e-02, 3.46827476e+00,\n",
       "        8.60781707e+02, 1.49596905e+02, 8.97944219e+02, 6.61600206e+02,\n",
       "        1.22472880e+02, 3.04341063e+02, 4.36691939e+02, 9.64385393e+02,\n",
       "        1.18860232e+02, 6.64439606e+01]),\n",
       " array([8.46594057e-096, 4.05863605e-025, 8.43625104e-101, 4.73456431e-088,\n",
       "        1.05185036e-018, 3.93826311e-056, 9.96655576e-084, 7.10115016e-116,\n",
       "        5.73338403e-016, 7.59936804e-001, 9.73894866e-050, 8.43332029e-001,\n",
       "        1.65190518e-047, 5.89552139e-046, 1.10296609e-001, 9.97599465e-013,\n",
       "        8.26017617e-010, 3.07230877e-024, 8.76641818e-001, 6.30735508e-002,\n",
       "        8.48229192e-116, 1.07805749e-030, 5.77139714e-119, 2.82884770e-097,\n",
       "        6.57514363e-026, 7.06981635e-055, 2.46466396e-072, 1.96909971e-124,\n",
       "        2.95112058e-025, 2.31643245e-015]))"
      ]
     },
     "execution_count": 7,
     "metadata": {},
     "output_type": "execute_result"
    }
   ],
   "source": [
    "ffs"
   ]
  },
  {
   "cell_type": "code",
   "execution_count": 25,
   "id": "53bc2332",
   "metadata": {},
   "outputs": [
    {
     "data": {
      "text/plain": [
       "array(['radius_mean', 'texture_mean', 'perimeter_mean', 'area_mean',\n",
       "       'smoothness_mean', 'compactness_mean', 'concavity_mean',\n",
       "       'concave points_mean', 'symmetry_mean', 'radius_se',\n",
       "       'perimeter_se', 'area_se', 'compactness_se', 'concavity_se',\n",
       "       'concave points_se', 'radius_worst', 'texture_worst',\n",
       "       'perimeter_worst', 'area_worst', 'smoothness_worst',\n",
       "       'compactness_worst', 'concavity_worst', 'concave points_worst',\n",
       "       'symmetry_worst'], dtype='<U20')"
      ]
     },
     "execution_count": 25,
     "metadata": {},
     "output_type": "execute_result"
    }
   ],
   "source": [
    "variable"
   ]
  },
  {
   "cell_type": "markdown",
   "id": "934d8032",
   "metadata": {},
   "source": [
    "# Backword feature selection"
   ]
  },
  {
   "cell_type": "markdown",
   "id": "6fffd7b6",
   "metadata": {},
   "source": [
    "Given an external estimator that assigns weights to features (e.g., the coefficients of a linear model), the goal of recursive feature elimination (RFE) is to select features by recursively considering smaller and smaller sets of features. First, the estimator is trained on the initial set of features and the importance of each feature is obtained either through any specific attribute (such as coef_, feature_importances_) or callable. Then, the least important features are pruned from current set of features. That procedure is recursively repeated on the pruned set until the desired number of features to select is eventually reached.\n",
    "\n",
    "RFECV performs RFE in a cross-validation loop to find the optimal number of features.\n",
    "https://scikit-learn.org/stable/modules/feature_selection.html#rfe"
   ]
  },
  {
   "cell_type": "code",
   "execution_count": 10,
   "id": "26e8f6a2",
   "metadata": {},
   "outputs": [],
   "source": [
    "from sklearn.linear_model import LogisticRegression\n",
    "from sklearn.feature_selection import RFE\n",
    "\n",
    "lreg = LogisticRegression(penalty = 'l2', C = 0.05, solver = 'liblinear')\n",
    "rfe = RFE(lreg)\n",
    "rfe = rfe.fit(df, transformed_target)"
   ]
  },
  {
   "cell_type": "code",
   "execution_count": 11,
   "id": "5f832257",
   "metadata": {},
   "outputs": [
    {
     "data": {
      "text/plain": [
       "15"
      ]
     },
     "execution_count": 11,
     "metadata": {},
     "output_type": "execute_result"
    }
   ],
   "source": [
    "rfe.n_features_"
   ]
  },
  {
   "cell_type": "code",
   "execution_count": 24,
   "id": "5b66a696",
   "metadata": {},
   "outputs": [
    {
     "data": {
      "text/plain": [
       "array([ 0,  1,  2,  5,  6,  7, 11, 13, 20, 21, 22, 25, 26, 27, 28],\n",
       "      dtype=int64)"
      ]
     },
     "execution_count": 24,
     "metadata": {},
     "output_type": "execute_result"
    }
   ],
   "source": [
    "selected_array=rfe.get_support(True)\n",
    "selected_array"
   ]
  },
  {
   "cell_type": "code",
   "execution_count": 28,
   "id": "7052d93a",
   "metadata": {},
   "outputs": [
    {
     "data": {
      "text/plain": [
       "['radius_mean',\n",
       " 'texture_mean',\n",
       " 'perimeter_mean',\n",
       " 'compactness_mean',\n",
       " 'concavity_mean',\n",
       " 'concave points_mean',\n",
       " 'texture_se',\n",
       " 'area_se',\n",
       " 'radius_worst',\n",
       " 'texture_worst',\n",
       " 'perimeter_worst',\n",
       " 'compactness_worst',\n",
       " 'concavity_worst',\n",
       " 'concave points_worst',\n",
       " 'symmetry_worst']"
      ]
     },
     "execution_count": 28,
     "metadata": {},
     "output_type": "execute_result"
    }
   ],
   "source": [
    "selected_features=[]\n",
    "for s in selected_array:\n",
    "    selected_features.append(df.columns[s])\n",
    "selected_features"
   ]
  },
  {
   "cell_type": "code",
   "execution_count": null,
   "id": "75eeda77",
   "metadata": {},
   "outputs": [],
   "source": []
  }
 ],
 "metadata": {
  "kernelspec": {
   "display_name": "Python 3 (ipykernel)",
   "language": "python",
   "name": "python3"
  },
  "language_info": {
   "codemirror_mode": {
    "name": "ipython",
    "version": 3
   },
   "file_extension": ".py",
   "mimetype": "text/x-python",
   "name": "python",
   "nbconvert_exporter": "python",
   "pygments_lexer": "ipython3",
   "version": "3.8.10"
  }
 },
 "nbformat": 4,
 "nbformat_minor": 5
}
